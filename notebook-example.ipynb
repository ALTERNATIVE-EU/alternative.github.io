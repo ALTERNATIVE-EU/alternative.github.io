{
 "cells": [
  {
   "cell_type": "code",
   "execution_count": 1,
   "id": "56013d57-8f36-4c4b-b57a-4113a8d139e9",
   "metadata": {},
   "outputs": [
    {
     "name": "stdout",
     "output_type": "stream",
     "text": [
      "[\n",
      "  {\n",
      "    \"organization\": \"CST\",\n",
      "    \"resources\": [\n",
      "      {\n",
      "        \"name\": \"sampledata2.csv\",\n",
      "        \"url\": \"https://alternative.ebdfbc2ec9.app.daiteap.com/dataset/726ad5e5-7f81-4b28-9ef4-411f7efab56d/resource/7a718dd5-4025-4f07-b6d1-48f1903736e4/download/___\"\n",
      "      }\n",
      "    ]\n",
      "  }\n",
      "]\n"
     ]
    }
   ],
   "source": [
    "import requests\n",
    "import json\n",
    "\n",
    "def get_public_datasets():\n",
    "    url = 'https://alternative.ebdfbc2ec9.app.daiteap.com/api/3/action/package_search'\n",
    "\n",
    "    response = requests.get(url)\n",
    "    datasets = []\n",
    "    \n",
    "    for dataset in json.loads(response.text)['result']['results']:\n",
    "        # print(dataset)\n",
    "        new_dataset = {\n",
    "            'organization': dataset['organization']['title'],\n",
    "            'resources': []\n",
    "        }\n",
    "        for resource in dataset['resources']:\n",
    "            new_dataset['resources'].append({\n",
    "                'name': resource['name'],\n",
    "                'url': resource['url']\n",
    "            })\n",
    "        datasets.append(new_dataset)\n",
    "    return datasets\n",
    "\n",
    "datasets = get_public_datasets()\n",
    "json_formatted_str = json.dumps(datasets, indent=2)\n",
    "\n",
    "print(json_formatted_str)"
   ]
  },
  {
   "cell_type": "code",
   "execution_count": 3,
   "id": "1be81ba7-adb1-4244-b4ae-01f3812c5c20",
   "metadata": {},
   "outputs": [],
   "source": [
    "import requests\n",
    "import json\n",
    "\n",
    "# TODO: configure URL and filename based on the response of previous request\n",
    "url = 'https://alternative.ebdfbc2ec9.app.daiteap.com/dataset/726ad5e5-7f81-4b28-9ef4-411f7efab56d/resource/7a718dd5-4025-4f07-b6d1-48f1903736e4/download/___'\n",
    "filename = 'sampledata2.csv'\n",
    "\n",
    "def download_dataset(resource_url, filename):\n",
    "    response = requests.get(resource_url)\n",
    "    download_url = response.text.split('url=\\'')[1].split('\\'\"')[0]\n",
    "    response = requests.get(download_url)\n",
    "    \n",
    "    with open(\"/home/jovyan/\" + filename, \"w\") as text_file:\n",
    "        text_file.write(response.text)\n",
    "\n",
    "download_dataset(url, filename)"
   ]
  }
 ],
 "metadata": {
  "kernelspec": {
   "display_name": "Python 3 (ipykernel)",
   "language": "python",
   "name": "python3"
  },
  "language_info": {
   "codemirror_mode": {
    "name": "ipython",
    "version": 3
   },
   "file_extension": ".py",
   "mimetype": "text/x-python",
   "name": "python",
   "nbconvert_exporter": "python",
   "pygments_lexer": "ipython3",
   "version": "3.10.6"
  }
 },
 "nbformat": 4,
 "nbformat_minor": 5
}
